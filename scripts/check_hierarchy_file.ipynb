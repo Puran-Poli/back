{
 "cells": [
  {
   "cell_type": "code",
   "execution_count": 1,
   "metadata": {},
   "outputs": [],
   "source": [
    "import pandas as pd"
   ]
  },
  {
   "cell_type": "code",
   "execution_count": 2,
   "metadata": {},
   "outputs": [
    {
     "data": {
      "text/plain": [
       "225647"
      ]
     },
     "execution_count": 2,
     "metadata": {},
     "output_type": "execute_result"
    }
   ],
   "source": [
    "h = pd.read_csv('../static/hierarchy.csv')\n",
    "len(h)"
   ]
  },
  {
   "cell_type": "code",
   "execution_count": 3,
   "metadata": {},
   "outputs": [
    {
     "data": {
      "text/plain": [
       "225647"
      ]
     },
     "execution_count": 3,
     "metadata": {},
     "output_type": "execute_result"
    }
   ],
   "source": [
    "# drop duplicates\n",
    "h = h.drop_duplicates()\n",
    "len(h)"
   ]
  },
  {
   "cell_type": "code",
   "execution_count": 4,
   "metadata": {},
   "outputs": [
    {
     "data": {
      "text/html": [
       "<div>\n",
       "<style scoped>\n",
       "    .dataframe tbody tr th:only-of-type {\n",
       "        vertical-align: middle;\n",
       "    }\n",
       "\n",
       "    .dataframe tbody tr th {\n",
       "        vertical-align: top;\n",
       "    }\n",
       "\n",
       "    .dataframe thead th {\n",
       "        text-align: right;\n",
       "    }\n",
       "</style>\n",
       "<table border=\"1\" class=\"dataframe\">\n",
       "  <thead>\n",
       "    <tr style=\"text-align: right;\">\n",
       "      <th></th>\n",
       "      <th>gender</th>\n",
       "      <th>vertical</th>\n",
       "      <th>fabric_category</th>\n",
       "      <th>brand</th>\n",
       "      <th>usage</th>\n",
       "      <th>brick</th>\n",
       "      <th>product</th>\n",
       "      <th>sub_product</th>\n",
       "      <th>target_audience</th>\n",
       "      <th>fit</th>\n",
       "      <th>standard_size</th>\n",
       "      <th>barcode_size</th>\n",
       "      <th>garment_waist</th>\n",
       "      <th>inseam_length</th>\n",
       "      <th>to_fit_waist</th>\n",
       "      <th>across_shoulder</th>\n",
       "      <th>chest</th>\n",
       "      <th>front_length</th>\n",
       "      <th>to_fit_foot_length</th>\n",
       "    </tr>\n",
       "  </thead>\n",
       "  <tbody>\n",
       "  </tbody>\n",
       "</table>\n",
       "</div>"
      ],
      "text/plain": [
       "Empty DataFrame\n",
       "Columns: [gender, vertical, fabric_category, brand, usage, brick, product, sub_product, target_audience, fit, standard_size, barcode_size, garment_waist, inseam_length, to_fit_waist, across_shoulder, chest, front_length, to_fit_foot_length]\n",
       "Index: []"
      ]
     },
     "execution_count": 4,
     "metadata": {},
     "output_type": "execute_result"
    }
   ],
   "source": [
    "duplicate_rows = h.duplicated(subset=['gender', 'vertical', 'fabric_category', 'brand', 'usage', 'brick', 'product', 'sub_product', 'target_audience', 'fit', 'standard_size'])\n",
    "h.loc[duplicate_rows]"
   ]
  },
  {
   "cell_type": "code",
   "execution_count": 5,
   "metadata": {},
   "outputs": [
    {
     "data": {
      "text/plain": [
       "(array(['Men', 'Women'], dtype=object),\n",
       " array(['Apparel'], dtype=object),\n",
       " array(['Knitted', 'Woven'], dtype=object),\n",
       " array(['Hardsoda', 'The Indian Garage Co', 'Freehand'], dtype=object),\n",
       " array(['Bottomwear', 'Coordinates', 'Topwear'], dtype=object),\n",
       " array(['Plus Size', 'Core', 'Mature', 'Youth'], dtype=object))"
      ]
     },
     "execution_count": 5,
     "metadata": {},
     "output_type": "execute_result"
    }
   ],
   "source": [
    "h.gender.unique(), h.vertical.unique(), h.fabric_category.unique(), h.brand.unique(), h.brick.unique(),  h.target_audience.unique()"
   ]
  },
  {
   "cell_type": "code",
   "execution_count": 6,
   "metadata": {},
   "outputs": [
    {
     "data": {
      "text/plain": [
       "['Athleisure',\n",
       " 'Casual',\n",
       " 'Ethnic',\n",
       " 'Festive',\n",
       " 'Formal',\n",
       " 'Lounge',\n",
       " 'Party',\n",
       " 'Resort',\n",
       " 'Semi Formal',\n",
       " 'Sports',\n",
       " 'Street']"
      ]
     },
     "execution_count": 6,
     "metadata": {},
     "output_type": "execute_result"
    }
   ],
   "source": [
    "sorted(h.usage.unique())"
   ]
  },
  {
   "cell_type": "code",
   "execution_count": 7,
   "metadata": {},
   "outputs": [
    {
     "data": {
      "text/plain": [
       "['Blazer',\n",
       " 'Bodysuit',\n",
       " 'Boxers',\n",
       " 'Cargo',\n",
       " 'Chinos',\n",
       " 'Coordinates',\n",
       " 'Dress',\n",
       " 'Dungaree',\n",
       " 'Jacket',\n",
       " 'Jeans',\n",
       " 'Jeggings',\n",
       " 'Joggers',\n",
       " 'Jumpsuit',\n",
       " 'Kurta',\n",
       " 'Kurta Set',\n",
       " 'Lounge Pants',\n",
       " 'Lounge Set',\n",
       " 'Lounge Shorts',\n",
       " 'Nehru Jacket',\n",
       " 'Outerwear',\n",
       " 'Romper',\n",
       " 'Shirt',\n",
       " 'Shorts',\n",
       " 'Shrug',\n",
       " 'Skirt',\n",
       " 'Skorts',\n",
       " 'Sports',\n",
       " 'Sweater',\n",
       " 'Sweatshirt',\n",
       " 'T-Shirt',\n",
       " 'Top',\n",
       " 'Trackpants',\n",
       " 'Tracksuits Set',\n",
       " 'Trousers',\n",
       " 'Windcheater']"
      ]
     },
     "execution_count": 7,
     "metadata": {},
     "output_type": "execute_result"
    }
   ],
   "source": [
    "sorted(h['product'].unique())"
   ]
  },
  {
   "cell_type": "code",
   "execution_count": 8,
   "metadata": {},
   "outputs": [],
   "source": [
    "# common spelling errors\n",
    "\n",
    "h['product'] = h['product'].replace('Jogger', 'Joggers')\n",
    "h['sub_product'] = h['sub_product'].replace('Denim Jogger', 'Denim Joggers')\n",
    "\n",
    "\n",
    "h['fit'] = h['fit'].replace(\"G142-Bootcut Loose\", \"G142 Bootcut Loose\")\n",
    "h['fit'] = h['fit'].replace(\"G361-Vintage Straight\", \"G361 Vintage Straight\")\n",
    "h['fit'] = h['fit'].replace(\"G362-Relaxed Straight\", \"G362 Relaxed Straight\")\n",
    "h['fit'] = h['fit'].replace(\"G365-Relaxed\", \"G365 Relaxed\")\n",
    "h['fit'] = h['fit'].replace(\"G401-Relaxed Tapered\", \"G401 Relaxed Tapered\")\n",
    "h['fit'] = h['fit'].replace(\"G611-Baggy Tapered\", \"G611 Baggy Tapered\")"
   ]
  },
  {
   "cell_type": "code",
   "execution_count": 9,
   "metadata": {},
   "outputs": [
    {
     "data": {
      "text/plain": [
       "['A Line Skirt',\n",
       " 'Asymmetric Dress',\n",
       " 'Asymmetric Skirt',\n",
       " 'Asymmetric Top',\n",
       " 'Babydoll Dress',\n",
       " 'Baseball Neck Sweatshirt',\n",
       " 'Bermuda Shorts',\n",
       " 'Biker Jacket',\n",
       " 'Biker Shorts',\n",
       " 'Blazer',\n",
       " 'Blazer And Pants',\n",
       " 'Blazer Dress',\n",
       " 'Bodycon Dress',\n",
       " 'Bodysuit',\n",
       " 'Bolero Jacket',\n",
       " 'Bomber Jacket',\n",
       " 'Bootcut Trousers',\n",
       " 'Boxers',\n",
       " 'Bubble Skirt',\n",
       " 'Button Down Skirt',\n",
       " 'Button Down Top',\n",
       " 'Cami Top',\n",
       " 'Cami Top And Pants',\n",
       " 'Cami Top And Shorts',\n",
       " 'Cape Top',\n",
       " 'Capri Pants',\n",
       " 'Cargo',\n",
       " 'Cargo Denim Jeans',\n",
       " 'Cargo Joggers',\n",
       " 'Cargo Pants',\n",
       " 'Cargo Shorts',\n",
       " 'Chinos',\n",
       " 'Cigarette Trousers',\n",
       " 'Cold Shoulder Top',\n",
       " 'Corset Top',\n",
       " 'Crew Neck Sweater',\n",
       " 'Crew Neck Sweatshirt',\n",
       " 'Crew Neck Sweatshirt And Joggers',\n",
       " 'Crew Neck Sweatshirt And Shorts',\n",
       " 'Crew Neck T-Shirt',\n",
       " 'Crew Neck Tank Top',\n",
       " 'Crewneck Sweatshirt',\n",
       " 'Crop Boxy Shirt',\n",
       " 'Crop Crewneck Sweatshirt',\n",
       " 'Crop Hooded Sweatshirt',\n",
       " 'Crop Shirt',\n",
       " 'Crop Top',\n",
       " 'Cropped Blazer',\n",
       " 'Cropped Denim Jacket',\n",
       " 'Cropped Jacket',\n",
       " 'Cropped Padded Jacket',\n",
       " 'Cuffed Cargo',\n",
       " 'Cuffed Joggers',\n",
       " 'Cullotes',\n",
       " 'Cut Out Dress',\n",
       " 'Cut Out Top',\n",
       " 'Denim Coords',\n",
       " 'Denim Jacket',\n",
       " 'Denim Jeggings',\n",
       " 'Denim Joggers',\n",
       " 'Denim Shirt',\n",
       " 'Denim Shorts',\n",
       " 'Double Breasted Blazer',\n",
       " 'Draped Dress',\n",
       " 'Draped Skirt',\n",
       " 'Draped Top',\n",
       " 'Drop Shoulder Dress',\n",
       " 'Drop Shoulder Top',\n",
       " 'Drop Waist Dress',\n",
       " 'Duffle Coat',\n",
       " 'Dungaree',\n",
       " 'Dungaree Dress',\n",
       " 'Dungaree Shorts',\n",
       " 'Elasticated Denim Jeggings',\n",
       " 'Elasticated Shorts',\n",
       " 'Elasticated Trousers',\n",
       " 'Five Pocket Jeans',\n",
       " 'Flare Shorts',\n",
       " 'Flare Trousers',\n",
       " 'Formal Trousers',\n",
       " 'Front Open High Neck Sweatshirt',\n",
       " 'Front Open High Neck Sweatshirt And Joggers',\n",
       " 'Front Open Hooded Sweatshirt',\n",
       " 'Front Open Hooded Sweatshirt And Joggers',\n",
       " 'Gathered Dress',\n",
       " 'Gathered Skirt',\n",
       " 'Gathered Waist Top',\n",
       " 'Gilet',\n",
       " 'Godet Dress',\n",
       " 'Godet Skirt',\n",
       " 'Gore Skirt',\n",
       " 'Half Open High Neck Sweater',\n",
       " 'Half Open High Neck Sweatshirt',\n",
       " 'Half Open Hooded Sweatshirt',\n",
       " 'Handkerchief Dress',\n",
       " 'Handkerchief Skirt',\n",
       " 'Handkerchief Top',\n",
       " 'Henley Neck T-Shirt',\n",
       " 'High Waist Shorts',\n",
       " 'Hooded Shirt',\n",
       " 'Hooded Sweatshirt',\n",
       " 'Hot Pants',\n",
       " 'Jacket',\n",
       " 'Jeans',\n",
       " 'Jeggings',\n",
       " 'Jogger Shorts',\n",
       " 'Jogger Trousers',\n",
       " 'Joggers',\n",
       " 'Jumpsuit',\n",
       " 'Kaftan',\n",
       " 'Knot Dress',\n",
       " 'Kurta',\n",
       " 'Kurta And Pyjama',\n",
       " 'Lace Top',\n",
       " 'Long Crewneck Sweatshirt',\n",
       " 'Long Hooded Sweatshirt',\n",
       " 'Long Shirt',\n",
       " 'Long Skirt',\n",
       " 'Lounge Pants',\n",
       " 'Lounge Shorts',\n",
       " 'Maxi Dress',\n",
       " 'Maxi Skirt',\n",
       " 'Midi Dress',\n",
       " 'Midi Skirt',\n",
       " 'Mini Dress',\n",
       " 'Mini Skirt',\n",
       " 'Mullet Skirt',\n",
       " 'Nehru Jacket',\n",
       " 'Off Shoulder Top',\n",
       " 'One Shoulder Dress',\n",
       " 'One Shoulder Top',\n",
       " 'Open Bottom Joggers',\n",
       " 'Overhead Crew Neck Sweatshirt And Joggers',\n",
       " 'Overhead Hooded Sweatshirt',\n",
       " 'Overhead Hooded Sweatshirt And Joggers',\n",
       " 'Overhead Hooded Sweatshirt And Shorts',\n",
       " 'Overshirt',\n",
       " 'Oversized Shirt',\n",
       " 'Padded Jacket',\n",
       " 'Palazzo',\n",
       " 'Paper Bag Trouser',\n",
       " 'Parka Jacket',\n",
       " 'Peg Trousers',\n",
       " 'Pencil Skirt',\n",
       " 'Peplum Dress',\n",
       " 'Peplum Skirt',\n",
       " 'Peplum Top',\n",
       " 'Pinafore Dress',\n",
       " 'Pleated Dress',\n",
       " 'Pleated Flare Trousers',\n",
       " 'Pleated Shorts',\n",
       " 'Pleated Skirt',\n",
       " 'Pleated Top',\n",
       " 'Polo Sweater',\n",
       " 'Polo T-Shirt',\n",
       " 'Quilted Jacket',\n",
       " 'Regular Shorts',\n",
       " 'Regular Top',\n",
       " 'Romper',\n",
       " 'Ruched Dress',\n",
       " 'Ruffle Dress',\n",
       " 'Ruffled Skirt',\n",
       " 'Ruffled Top',\n",
       " 'Safari Jacket',\n",
       " 'Sailor Trousers',\n",
       " 'Sarong Skirt',\n",
       " 'Sheath Dress',\n",
       " 'Shift Dress',\n",
       " 'Shirred Top',\n",
       " 'Shirt',\n",
       " 'Shirt And Boxers',\n",
       " 'Shirt And Pants',\n",
       " 'Shirt And Shorts',\n",
       " 'Shirt And Trousers',\n",
       " 'Shirt Dress',\n",
       " 'Short Kurta',\n",
       " 'Shorts',\n",
       " 'Shrug',\n",
       " 'Single Breasted Blazer',\n",
       " 'Skater Dress',\n",
       " 'Skater Skirt',\n",
       " 'Skorts',\n",
       " 'Slip Dress',\n",
       " 'Spaghetti Top',\n",
       " 'Straight Trousers',\n",
       " 'Strapless Dress',\n",
       " 'Strapless Top',\n",
       " 'Sweater',\n",
       " 'Sweatshirt',\n",
       " 'T-Shirt And Pants',\n",
       " 'T-Shirt And Shorts',\n",
       " 'T-Shirt Dress',\n",
       " 'Tank Top',\n",
       " 'Tapered Jumpsuit',\n",
       " 'Tapered Trousers',\n",
       " 'Tiered Dress',\n",
       " 'Tiered Skirt',\n",
       " 'Top And Pants',\n",
       " 'Top And Shorts',\n",
       " 'Top And Skirt',\n",
       " 'Top and Pants',\n",
       " 'Trackpants',\n",
       " 'Trench Coat',\n",
       " 'Trousers',\n",
       " 'Trucker Jacket',\n",
       " 'Trumpet Skirt',\n",
       " 'Tube Dress',\n",
       " 'Tube Top',\n",
       " 'Tulip Dress',\n",
       " 'Tulip Skirt',\n",
       " 'Tunic',\n",
       " 'Turtle Neck Sweater',\n",
       " 'Twist Dress',\n",
       " 'Twist Top',\n",
       " 'Utility Jacket',\n",
       " 'V-Neck T-Shirt',\n",
       " 'Varsity Jacket',\n",
       " 'Vest Top',\n",
       " 'Waterfall Jacket',\n",
       " 'Wide Leg Trousers',\n",
       " 'Windcheater',\n",
       " 'Wrap Dress',\n",
       " 'Wrap Skirt',\n",
       " 'Wrap Top']"
      ]
     },
     "execution_count": 9,
     "metadata": {},
     "output_type": "execute_result"
    }
   ],
   "source": [
    "sorted(h.sub_product.unique())"
   ]
  },
  {
   "cell_type": "code",
   "execution_count": 10,
   "metadata": {},
   "outputs": [
    {
     "data": {
      "text/plain": [
       "['A Line',\n",
       " 'Anti Fit',\n",
       " 'Baggy',\n",
       " 'Baggy Flared',\n",
       " 'Barrel Loose',\n",
       " 'Bootcut',\n",
       " 'Boxy',\n",
       " 'Boyfriend',\n",
       " 'Cargo',\n",
       " 'Carpenter',\n",
       " 'Carrot',\n",
       " 'Dad',\n",
       " 'Empire',\n",
       " 'Fit And Flare',\n",
       " 'Fit and Flare',\n",
       " 'Fitted',\n",
       " 'Fitted And Bootcut',\n",
       " 'Fitted And Flare',\n",
       " 'Fitted And Straight',\n",
       " 'Fitted And Tapered',\n",
       " 'Fitted And Wide',\n",
       " 'Fitted and Bootcut',\n",
       " 'Fitted and Flare',\n",
       " 'Fitted and Straight',\n",
       " 'Fitted and Tapered',\n",
       " 'Fitted and Wide',\n",
       " 'Flare',\n",
       " 'Flared And Bootcut',\n",
       " 'Flared And Straight',\n",
       " 'Flared And Tapered',\n",
       " 'Flared And Wide',\n",
       " 'Flared Bootcut',\n",
       " 'Flared and Bootcut',\n",
       " 'Flared and Straight',\n",
       " 'Flared and Tapered',\n",
       " 'Flared and Wide',\n",
       " 'G111 Slim Straight',\n",
       " 'G141 Bootcut',\n",
       " 'G142 Bootcut Loose',\n",
       " 'G361 Vintage Straight',\n",
       " 'G362 Relaxed Straight',\n",
       " 'G365 Relaxed',\n",
       " 'G366 Dad',\n",
       " 'G371 Baggy',\n",
       " 'G372 Baggy',\n",
       " 'G401 Relaxed Tapered',\n",
       " 'G505 Relaxed',\n",
       " 'G510 Elasticated Wide Leg',\n",
       " 'G511 Wide Leg',\n",
       " 'G611 Baggy Tapered',\n",
       " 'G711 Relaxed Jogger',\n",
       " 'Loose',\n",
       " 'Loose And Bootcut',\n",
       " 'Loose And Fitted',\n",
       " 'Loose And Flare',\n",
       " 'Loose And Straight',\n",
       " 'Loose And Tapered',\n",
       " 'Loose And Wide',\n",
       " 'Loose Mom',\n",
       " 'Loose and Bootcut',\n",
       " 'Loose and Fitted',\n",
       " 'Loose and Flare',\n",
       " 'Loose and Straight',\n",
       " 'Loose and Tapered',\n",
       " 'Loose and Wide',\n",
       " 'Mom',\n",
       " 'Oversized',\n",
       " 'Plus',\n",
       " 'Plus Baggy',\n",
       " 'Plus Bootcut',\n",
       " 'Plus Boyfriend',\n",
       " 'Plus Fit',\n",
       " 'Plus Flare',\n",
       " 'Plus Loose',\n",
       " 'Plus Loose Mom',\n",
       " 'Plus Mom',\n",
       " 'Plus Regular',\n",
       " 'Plus Skinny',\n",
       " 'Plus Slim',\n",
       " 'Plus Slouchy',\n",
       " 'Plus Straight',\n",
       " 'Plus Super Skinny',\n",
       " 'Plus Tapered',\n",
       " 'Plus Wide Leg',\n",
       " 'Regular',\n",
       " 'Regular And Bootcut',\n",
       " 'Regular And Fitted',\n",
       " 'Regular And Flare',\n",
       " 'Regular And Straight',\n",
       " 'Regular And Tapered',\n",
       " 'Regular And Wide',\n",
       " 'Regular and Bootcut',\n",
       " 'Regular and Fitted',\n",
       " 'Regular and Flare',\n",
       " 'Regular and Straight',\n",
       " 'Regular and Tapered',\n",
       " 'Regular and Wide',\n",
       " 'Relax Tapered',\n",
       " 'Relaxed',\n",
       " 'Relaxed And Bootcut',\n",
       " 'Relaxed And Fitted',\n",
       " 'Relaxed And Flare',\n",
       " 'Relaxed And Straight',\n",
       " 'Relaxed And Tapered',\n",
       " 'Relaxed And Wide',\n",
       " 'Relaxed Straight',\n",
       " 'Relaxed Tapered',\n",
       " 'Relaxed and Bootcut',\n",
       " 'Relaxed and Fitted',\n",
       " 'Relaxed and Flare',\n",
       " 'Relaxed and Straight',\n",
       " 'Relaxed and Tapered',\n",
       " 'Relaxed and Wide',\n",
       " 'Skinny',\n",
       " 'Slim',\n",
       " 'Slim Cropped',\n",
       " 'Slouchy',\n",
       " 'Standard Tapered',\n",
       " 'Straight',\n",
       " 'Super Skinny',\n",
       " 'Tapered',\n",
       " 'Vintage Straight',\n",
       " 'Wide',\n",
       " 'Wide Leg']"
      ]
     },
     "execution_count": 10,
     "metadata": {},
     "output_type": "execute_result"
    }
   ],
   "source": [
    "sorted(h.fit.unique())"
   ]
  },
  {
   "cell_type": "code",
   "execution_count": 11,
   "metadata": {},
   "outputs": [
    {
     "data": {
      "text/plain": [
       "['26',\n",
       " '28',\n",
       " '30',\n",
       " '32',\n",
       " '34',\n",
       " '36',\n",
       " '38',\n",
       " '3XL',\n",
       " '40',\n",
       " '42',\n",
       " '44',\n",
       " '46',\n",
       " '48',\n",
       " '4XL',\n",
       " '5XL',\n",
       " '6XL',\n",
       " 'L',\n",
       " 'M',\n",
       " 'S',\n",
       " 'XL',\n",
       " 'XS',\n",
       " 'XXL',\n",
       " 'XXXL']"
      ]
     },
     "execution_count": 11,
     "metadata": {},
     "output_type": "execute_result"
    }
   ],
   "source": [
    "sorted(h.standard_size.unique())"
   ]
  },
  {
   "cell_type": "code",
   "execution_count": 12,
   "metadata": {},
   "outputs": [],
   "source": [
    "h.sort_values(by=['gender', 'vertical', 'fabric_category', 'brand', 'usage', 'brick', 'product', 'sub_product', 'target_audience', 'fit', 'standard_size'], inplace=True)\n",
    "h.to_csv('../static/hierarchy.csv', index=False)"
   ]
  },
  {
   "cell_type": "code",
   "execution_count": 13,
   "metadata": {},
   "outputs": [],
   "source": [
    "h[h['brick'] == 'Topwear'].to_csv('../static/topwear.csv', index=False)"
   ]
  },
  {
   "cell_type": "code",
   "execution_count": 14,
   "metadata": {},
   "outputs": [],
   "source": [
    "h[h['brick'] == 'Bottomwear'].to_csv('../static/bottomwear.csv', index=False)"
   ]
  },
  {
   "cell_type": "code",
   "execution_count": 15,
   "metadata": {},
   "outputs": [],
   "source": [
    "h[h['brick'] == 'Coordinates'].to_csv('../static/coordinates.csv', index=False)"
   ]
  },
  {
   "cell_type": "code",
   "execution_count": 16,
   "metadata": {},
   "outputs": [],
   "source": [
    "# REMINDER: bump the version"
   ]
  },
  {
   "cell_type": "code",
   "execution_count": null,
   "metadata": {},
   "outputs": [],
   "source": []
  },
  {
   "cell_type": "code",
   "execution_count": 17,
   "metadata": {},
   "outputs": [],
   "source": [
    "# REMINDER: bump the version"
   ]
  }
 ],
 "metadata": {
  "kernelspec": {
   "display_name": "crafted",
   "language": "python",
   "name": "python3"
  },
  "language_info": {
   "codemirror_mode": {
    "name": "ipython",
    "version": 3
   },
   "file_extension": ".py",
   "mimetype": "text/x-python",
   "name": "python",
   "nbconvert_exporter": "python",
   "pygments_lexer": "ipython3",
   "version": "3.10.13"
  }
 },
 "nbformat": 4,
 "nbformat_minor": 2
}
